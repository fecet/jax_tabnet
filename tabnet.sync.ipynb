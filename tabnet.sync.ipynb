{
 "cells": [
  {
   "cell_type": "code",
   "execution_count": 1,
   "id": "f2edfe9e",
   "metadata": {
    "ExecuteTime": {
     "end_time": "2022-07-06T18:39:52.769226Z",
     "start_time": "2022-07-06T18:39:51.825726Z"
    }
   },
   "outputs": [],
   "source": [
    "\n",
    "from typing import Optional\n",
    "\n",
    "import haiku as hk\n",
    "import jax\n",
    "import jax.numpy as jnp\n",
    "import numpy as np\n",
    "from functools import partial\n",
    "from jax import lax"
   ]
  },
  {
   "cell_type": "code",
   "execution_count": 2,
   "id": "30c1fa93",
   "metadata": {},
   "outputs": [],
   "source": [
    "\n",
    "def multiply_no_nan(x, y):\n",
    "    dtype = jnp.result_type(x, y)\n",
    "    return jnp.where(jnp.equal(x, 0.0), jnp.zeros((), dtype=dtype), jnp.multiply(x, y))\n",
    "\n",
    "def reshape_to_broadcast(array: jnp.array, shape: tuple, axis: int):\n",
    "    \"\"\" reshapes the `array` to be broadcastable to `shape`\"\"\"\n",
    "    new_shape = [1 for _ in shape]\n",
    "    new_shape[axis] = shape[axis]\n",
    "    return jnp.reshape(array, new_shape)\n",
    "\n",
    "def spmax(z):\n",
    "    sort_z = jnp.flip(jnp.sort(z))\n",
    "    k = jnp.arange(z.shape[-1]) + 1\n",
    "    z_cumsum = jnp.cumsum(sort_z)\n",
    "    k_array = 1 + k*sort_z\n",
    "    k_z = jnp.where(z_cumsum<k_array)[0]\n",
    "    # print(f\"k_array:{k_array}\")\n",
    "    # print(f\"z_cumsum:{z_cumsum}\")\n",
    "    # print(f\"kz array:{k_z}\")\n",
    "    # print(f\"sort_z:{sort_z}\")\n",
    "    k_z = jnp.max(k_z)\n",
    "    tau_z = (z_cumsum[k_z]-1)/(k_z+1)\n",
    "    # print(f\"tau_z:{tau_z}\")\n",
    "    res = z - tau_z\n",
    "    t = jnp.where(res>0,res,0.)\n",
    "    return t\n",
    "\n",
    "# @partial(jax.custom_jvp, nondiff_argnums=(1,))\n",
    "@partial(jax.jit, static_argnums=(1,))\n",
    "def _sparsemax(x, axis):\n",
    "    # get indices of elements in the right axis\n",
    "    # and reshape to allow broadcasting to other dimensions\n",
    "    idxs = jnp.arange(x.shape[axis]) + 1\n",
    "    idxs = reshape_to_broadcast(idxs, x.shape, axis)\n",
    "\n",
    "    # calculate number of elements that belong to the support\n",
    "    sorted_x = jnp.flip(lax.sort(x, dimension=axis), axis=axis)\n",
    "    cum = jnp.cumsum(sorted_x, axis=axis)\n",
    "    k = jnp.sum(jnp.where(1 + sorted_x * idxs > cum, 1, 0), axis=axis, keepdims=True)\n",
    "\n",
    "    # calculate threshold and project to simplex\n",
    "    threshold = (jnp.take_along_axis(cum, k - 1, axis=axis) - 1) / k\n",
    "    return jnp.maximum(x - threshold, 0)"
   ]
  },
  {
   "cell_type": "code",
   "execution_count": 61,
   "id": "6bb46f31",
   "metadata": {},
   "outputs": [
    {
     "name": "stdout",
     "output_type": "stream",
     "text": [
      "Unexpected exception formatting exception. Falling back to standard exception\n"
     ]
    },
    {
     "name": "stderr",
     "output_type": "stream",
     "text": [
      "Traceback (most recent call last):\n",
      "  File \"/home/kara/.conda/envs/tq/lib/python3.8/site-packages/jax/interpreters/ad.py\", line 269, in get_primitive_transpose\n",
      "    if not is_undefined_primal(val):\n",
      "KeyError: integer_pow\n",
      "\n",
      "The above exception was the direct cause of the following exception:\n",
      "\n",
      "Traceback (most recent call last):\n",
      "  File \"/home/kara/.conda/envs/tq/lib/python3.8/runpy.py\", line 194, in _run_module_as_main\n",
      "    return _run_code(code, main_globals, None,\n",
      "  File \"/home/kara/.conda/envs/tq/lib/python3.8/runpy.py\", line 87, in _run_code\n",
      "    exec(code, run_globals)\n",
      "  File \"/home/kara/.conda/envs/tq/lib/python3.8/site-packages/ipykernel_launcher.py\", line 17, in <module>\n",
      "    app.launch_new_instance()\n",
      "  File \"/home/kara/.conda/envs/tq/lib/python3.8/site-packages/traitlets/config/application.py\", line 846, in launch_instance\n",
      "    app.start()\n",
      "  File \"/home/kara/.conda/envs/tq/lib/python3.8/site-packages/ipykernel/kernelapp.py\", line 712, in start\n",
      "    self.io_loop.start()\n",
      "  File \"/home/kara/.conda/envs/tq/lib/python3.8/site-packages/tornado/platform/asyncio.py\", line 199, in start\n",
      "    self.asyncio_loop.run_forever()\n",
      "  File \"/home/kara/.conda/envs/tq/lib/python3.8/asyncio/base_events.py\", line 570, in run_forever\n",
      "    self._run_once()\n",
      "  File \"/home/kara/.conda/envs/tq/lib/python3.8/asyncio/base_events.py\", line 1859, in _run_once\n",
      "    handle._run()\n",
      "  File \"/home/kara/.conda/envs/tq/lib/python3.8/asyncio/events.py\", line 81, in _run\n",
      "    self._context.run(self._callback, *self._args)\n",
      "  File \"/home/kara/.conda/envs/tq/lib/python3.8/site-packages/ipykernel/kernelbase.py\", line 504, in dispatch_queue\n",
      "    await self.process_one()\n",
      "  File \"/home/kara/.conda/envs/tq/lib/python3.8/site-packages/ipykernel/kernelbase.py\", line 493, in process_one\n",
      "    await dispatch(*args)\n",
      "  File \"/home/kara/.conda/envs/tq/lib/python3.8/site-packages/ipykernel/kernelbase.py\", line 400, in dispatch_shell\n",
      "    await result\n",
      "  File \"/home/kara/.conda/envs/tq/lib/python3.8/site-packages/ipykernel/kernelbase.py\", line 724, in execute_request\n",
      "    reply_content = await reply_content\n",
      "  File \"/home/kara/.conda/envs/tq/lib/python3.8/site-packages/ipykernel/ipkernel.py\", line 383, in do_execute\n",
      "    res = shell.run_cell(\n",
      "  File \"/home/kara/.conda/envs/tq/lib/python3.8/site-packages/ipykernel/zmqshell.py\", line 528, in run_cell\n",
      "    return super().run_cell(*args, **kwargs)\n",
      "  File \"/home/kara/.conda/envs/tq/lib/python3.8/site-packages/IPython/core/interactiveshell.py\", line 2880, in run_cell\n",
      "    result = self._run_cell(\n",
      "  File \"/home/kara/.conda/envs/tq/lib/python3.8/site-packages/IPython/core/interactiveshell.py\", line 2935, in _run_cell\n",
      "    return runner(coro)\n",
      "  File \"/home/kara/.conda/envs/tq/lib/python3.8/site-packages/IPython/core/async_helpers.py\", line 129, in _pseudo_sync_runner\n",
      "    coro.send(None)\n",
      "  File \"/home/kara/.conda/envs/tq/lib/python3.8/site-packages/IPython/core/interactiveshell.py\", line 3134, in run_cell_async\n",
      "    has_raised = await self.run_ast_nodes(code_ast.body, cell_name,\n",
      "  File \"/home/kara/.conda/envs/tq/lib/python3.8/site-packages/IPython/core/interactiveshell.py\", line 3337, in run_ast_nodes\n",
      "    if await self.run_code(code, result, async_=asy):\n",
      "  File \"/home/kara/.conda/envs/tq/lib/python3.8/site-packages/IPython/core/interactiveshell.py\", line 3397, in run_code\n",
      "    exec(code_obj, self.user_global_ns, self.user_ns)\n",
      "  File \"/tmp/ipykernel_2951/3691755171.py\", line 16, in <cell line: 16>\n",
      "    jax.grad(f)(x)\n",
      "  File \"/tmp/ipykernel_2951/3691755171.py\", line 14, in f_jvp\n",
      "    return f(x), jnp.sum(dx**2)\n",
      "  File \"/home/kara/.conda/envs/tq/lib/python3.8/site-packages/jax/_src/numpy/lax_numpy.py\", line 4557, in deferring_binary_op\n",
      "    return binary_op(self, other)\n",
      "  File \"/home/kara/.conda/envs/tq/lib/python3.8/site-packages/jax/_src/numpy/ufuncs.py\", line 326, in power\n",
      "    return lax.integer_pow(x1, x2)\n",
      "jax._src.source_info_util.JaxStackTraceBeforeTransformation: NotImplementedError: Transpose rule (for reverse-mode differentiation) for 'integer_pow' not implemented\n",
      "\n",
      "The preceding stack trace is the source of the JAX operation that, once transformed by JAX, triggered the following exception.\n",
      "\n",
      "--------------------\n",
      "\n",
      "The above exception was the direct cause of the following exception:\n",
      "\n",
      "Traceback (most recent call last):\n",
      "  File \"/home/kara/.conda/envs/tq/lib/python3.8/site-packages/IPython/core/interactiveshell.py\", line 3397, in run_code\n",
      "    exec(code_obj, self.user_global_ns, self.user_ns)\n",
      "  File \"/tmp/ipykernel_2951/3691755171.py\", line 16, in <cell line: 16>\n",
      "    jax.grad(f)(x)\n",
      "  File \"/home/kara/.conda/envs/tq/lib/python3.8/site-packages/jax/_src/traceback_util.py\", line 162, in reraise_with_filtered_traceback\n",
      "    return fun(*args, **kwargs)\n",
      "  File \"/home/kara/.conda/envs/tq/lib/python3.8/site-packages/jax/_src/api.py\", line 919, in grad_f\n",
      "    ENTRY jaxpr_computation.9 {\n",
      "  File \"/home/kara/.conda/envs/tq/lib/python3.8/site-packages/jax/_src/traceback_util.py\", line 162, in reraise_with_filtered_traceback\n",
      "    return fun(*args, **kwargs)\n",
      "  File \"/home/kara/.conda/envs/tq/lib/python3.8/site-packages/jax/_src/api.py\", line 1001, in value_and_grad_f\n",
      "    with ExitStack() as stack:\n",
      "  File \"/home/kara/.conda/envs/tq/lib/python3.8/site-packages/jax/_src/tree_util.py\", line 287, in __call__\n",
      "    return self.fun(*args, **kw)\n",
      "  File \"/home/kara/.conda/envs/tq/lib/python3.8/site-packages/jax/_src/api.py\", line 2364, in _vjp_pullback_wrapper\n",
      "    @api_boundary\n",
      "  File \"/home/kara/.conda/envs/tq/lib/python3.8/site-packages/jax/_src/tree_util.py\", line 287, in __call__\n",
      "    return self.fun(*args, **kw)\n",
      "  File \"/home/kara/.conda/envs/tq/lib/python3.8/site-packages/jax/interpreters/ad.py\", line 137, in unbound_vjp\n",
      "    trace = JVPTrace(main, core.cur_sublevel())\n",
      "  File \"/home/kara/.conda/envs/tq/lib/python3.8/site-packages/jax/interpreters/ad.py\", line 238, in backward_pass\n",
      "    return\n",
      "  File \"/home/kara/.conda/envs/tq/lib/python3.8/site-packages/jax/interpreters/ad.py\", line 271, in get_primitive_transpose\n",
      "NotImplementedError: Transpose rule (for reverse-mode differentiation) for 'integer_pow' not implemented\n",
      "\n",
      "During handling of the above exception, another exception occurred:\n",
      "\n",
      "Traceback (most recent call last):\n",
      "  File \"/home/kara/.conda/envs/tq/lib/python3.8/site-packages/IPython/core/interactiveshell.py\", line 1992, in showtraceback\n",
      "    stb = self.InteractiveTB.structured_traceback(\n",
      "  File \"/home/kara/.conda/envs/tq/lib/python3.8/site-packages/IPython/core/ultratb.py\", line 1118, in structured_traceback\n",
      "    return FormattedTB.structured_traceback(\n",
      "  File \"/home/kara/.conda/envs/tq/lib/python3.8/site-packages/IPython/core/ultratb.py\", line 1012, in structured_traceback\n",
      "    return VerboseTB.structured_traceback(\n",
      "  File \"/home/kara/.conda/envs/tq/lib/python3.8/site-packages/IPython/core/ultratb.py\", line 865, in structured_traceback\n",
      "    formatted_exception = self.format_exception_as_a_whole(etype, evalue, etb, number_of_lines_of_context,\n",
      "  File \"/home/kara/.conda/envs/tq/lib/python3.8/site-packages/IPython/core/ultratb.py\", line 818, in format_exception_as_a_whole\n",
      "    frames.append(self.format_record(r))\n",
      "  File \"/home/kara/.conda/envs/tq/lib/python3.8/site-packages/IPython/core/ultratb.py\", line 736, in format_record\n",
      "    result += ''.join(_format_traceback_lines(frame_info.lines, Colors, self.has_colors, lvals))\n",
      "  File \"/home/kara/.conda/envs/tq/lib/python3.8/site-packages/stack_data/utils.py\", line 145, in cached_property_wrapper\n",
      "    value = obj.__dict__[self.func.__name__] = self.func(obj)\n",
      "  File \"/home/kara/.conda/envs/tq/lib/python3.8/site-packages/stack_data/core.py\", line 698, in lines\n",
      "    pieces = self.included_pieces\n",
      "  File \"/home/kara/.conda/envs/tq/lib/python3.8/site-packages/stack_data/utils.py\", line 145, in cached_property_wrapper\n",
      "    value = obj.__dict__[self.func.__name__] = self.func(obj)\n",
      "  File \"/home/kara/.conda/envs/tq/lib/python3.8/site-packages/stack_data/core.py\", line 649, in included_pieces\n",
      "    pos = scope_pieces.index(self.executing_piece)\n",
      "  File \"/home/kara/.conda/envs/tq/lib/python3.8/site-packages/stack_data/utils.py\", line 145, in cached_property_wrapper\n",
      "    value = obj.__dict__[self.func.__name__] = self.func(obj)\n",
      "  File \"/home/kara/.conda/envs/tq/lib/python3.8/site-packages/stack_data/core.py\", line 628, in executing_piece\n",
      "    return only(\n",
      "  File \"/home/kara/.conda/envs/tq/lib/python3.8/site-packages/executing/executing.py\", line 164, in only\n",
      "    raise NotOneValueFound('Expected one value, found 0')\n",
      "executing.executing.NotOneValueFound: Expected one value, found 0\n"
     ]
    }
   ],
   "source": [
    "\n",
    "@jax.custom_jvp\n",
    "def f(x):\n",
    "    # return jnp.sum(x**2)\n",
    "    return jnp.sum(x**2)\n",
    "\n",
    "x = jnp.array([0.1,0.2,0.6])\n",
    "# x = jnp.array([0.6])\n",
    "# x = 0.5\n",
    "\n",
    "@f.defjvp\n",
    "def f_jvp(p,t):\n",
    "    x, = p\n",
    "    dx, = t\n",
    "    return f(x), dx\n",
    "\n",
    "jax.grad(f)(x)"
   ]
  },
  {
   "cell_type": "code",
   "execution_count": 8,
   "id": "62103a72",
   "metadata": {},
   "outputs": [
    {
     "data": {
      "text/plain": [
       "DeviceArray(40., dtype=float32, weak_type=True)"
      ]
     },
     "execution_count": 8,
     "metadata": {},
     "output_type": "execute_result"
    }
   ],
   "source": [
    "\n",
    "\"\"\"f(x,y) = y*x**2+y+2\"\"\"\n",
    "\n",
    "@jax.custom_jvp\n",
    "def n1(x):\n",
    "    return x\n",
    "\n",
    "@n1.defjvp\n",
    "def n1_jvp(p,t):\n",
    "    x = p[0]\n",
    "    dx = t[0]\n",
    "    return x+2., dx \n",
    "\n",
    "def n2(y):\n",
    "    return y\n",
    "\n",
    "def n4(x):\n",
    "    return x**2\n",
    "\n",
    "def n5(x,y):\n",
    "    return x*y\n",
    "\n",
    "def n6(y):\n",
    "    return y+2\n",
    "\n",
    "def n7(x,y):\n",
    "    return x+y\n",
    "\n",
    "def f(x,y):\n",
    "    n1_ = n1(x)\n",
    "    n2_ = n2(y)\n",
    "    n4_ = n4(n1_)\n",
    "    n5_ = n5(n4_,n2_)\n",
    "    n6_ = n6(y)\n",
    "    n7_ = n7(n5_,n6_)\n",
    "    return n7_\n",
    "\n",
    "jax.grad(f,argnums=0)(3.,4.)"
   ]
  },
  {
   "cell_type": "code",
   "execution_count": null,
   "id": "1e5fb1a7",
   "metadata": {},
   "outputs": [],
   "source": [
    "\n",
    "key = jax.random.PRNGKey(42)\n",
    "w = jax.random.normal(key,shape=(4,5))\n",
    "b = jnp.ones(shape=(4,))\n",
    "x = jax.random.normal(key,shape=(5,))\n",
    "\n",
    "f = lambda x:w@x+b\n",
    "l = lambda p,x,y:jnp.mean(0.5*(y-x)**2)"
   ]
  },
  {
   "cell_type": "code",
   "execution_count": 196,
   "id": "d36ec885",
   "metadata": {},
   "outputs": [
    {
     "data": {
      "text/plain": [
       "DeviceArray([ 0.44177228,  1.2178631 ,  0.12794471, -0.22830896], dtype=float32)"
      ]
     },
     "execution_count": 196,
     "metadata": {},
     "output_type": "execute_result"
    }
   ],
   "source": [
    "\n",
    "y = jnp.array([0.1,0.2,0.5,0.3])\n",
    "jax.grad(l,argnums=1)(f(x),y)"
   ]
  },
  {
   "cell_type": "code",
   "execution_count": 87,
   "id": "0e61a713",
   "metadata": {},
   "outputs": [
    {
     "name": "stdout",
     "output_type": "stream",
     "text": [
      "prob:[0.24483848 0.7551615  0.         0.         0.        ]\n"
     ]
    },
    {
     "data": {
      "text/plain": [
       "DeviceArray([0.24483848, 0.7551615 , 0.        , 0.        , 0.        ],            dtype=float32)"
      ]
     },
     "execution_count": 87,
     "metadata": {},
     "output_type": "execute_result"
    }
   ],
   "source": [
    "\n",
    "def model(theta,x):\n",
    "    w,b = thea"
   ]
  },
  {
   "cell_type": "code",
   "execution_count": null,
   "id": "6e5f7b46",
   "metadata": {},
   "outputs": [],
   "source": [
    "\n",
    "x = jnp.array([2.,3.,1.,3.2,0.8])\n",
    "x = jax.random.normal(key,shape=(5,))\n",
    "# x = jnp.array([0.5,0.])\n",
    "res = spmax(x)\n",
    "res1 = _sparsemax(x, -1)\n",
    "res1"
   ]
  },
  {
   "cell_type": "code",
   "execution_count": 40,
   "id": "b43ce706",
   "metadata": {},
   "outputs": [],
   "source": [
    "\n",
    "x = jnp.array([2.,3.,1.,3.2,0.8])\n",
    "def forward_fn(x):\n",
    "    lin = hk.Linear(5)\n",
    "    return jax.nn.selu(lin(x))\n",
    "\n",
    "h = hk.without_apply_rng(hk.transform(forward_fn))\n",
    "rng_key = jax.random.PRNGKey(43)\n",
    "params = h.init(rng_key,x=x)"
   ]
  },
  {
   "cell_type": "code",
   "execution_count": 41,
   "id": "59eb1bcc",
   "metadata": {},
   "outputs": [
    {
     "data": {
      "text/plain": [
       "DeviceArray([-1.0214243,  1.484182 , -1.6136022, -1.712439 ,  0.9919937],            dtype=float32)"
      ]
     },
     "execution_count": 41,
     "metadata": {},
     "output_type": "execute_result"
    }
   ],
   "source": [
    "\n",
    "h.apply(x=x,params=params)"
   ]
  },
  {
   "cell_type": "code",
   "execution_count": 56,
   "id": "aaf23a8a",
   "metadata": {},
   "outputs": [
    {
     "name": "stdout",
     "output_type": "stream",
     "text": [
      "prob:[0.         0.7460941  0.         0.         0.25390583]\n",
      "prob:[1. 0. 0. 0. 0.]\n",
      "prob:[0.28663146 0.         0.         0.         0.71336854]\n"
     ]
    }
   ],
   "source": [
    "\n",
    "g = 1.5\n",
    "p0 = jnp.array([1.,1.,1.,1.,1.])\n",
    "m1 = spmax(p0*h.apply(x=x,params=params))\n",
    "p1 = g-m1\n",
    "m2 = spmax(p1*h.apply(x=x*m1,params=params))\n",
    "p2 = (g-m1)*(g-m2)\n",
    "m3 = spmax(p2*h.apply(x=x*m2,params=params))"
   ]
  },
  {
   "cell_type": "code",
   "execution_count": 57,
   "id": "056150e8",
   "metadata": {},
   "outputs": [
    {
     "data": {
      "text/plain": [
       "DeviceArray([0.25, 0.25, 0.25, 0.25, 0.25, 0.25], dtype=float32)"
      ]
     },
     "execution_count": 57,
     "metadata": {},
     "output_type": "execute_result"
    }
   ],
   "source": [
    "\n",
    "def test_sort(x):\n",
    "    # x = jnp.sort(x)\n",
    "    # x = jnp.flip(x)\n",
    "    y = jnp.where(x>1.)[0]\n",
    "    y = jnp.max(y).astype(jnp.float32)\n",
    "    return jnp.sum(x) / y\n",
    "\n",
    "x = jnp.array([2.,3.,1.,4.,3.2,0.8])\n",
    "jax.grad(test_sort)(x)\n",
    "# test_sort(x)"
   ]
  },
  {
   "cell_type": "code",
   "execution_count": 11,
   "id": "a50189bb",
   "metadata": {},
   "outputs": [
    {
     "ename": "TypeError",
     "evalue": "unsupported operand type(s) for +: 'DynamicJaxprTracer' and 'tuple'",
     "output_type": "error",
     "traceback": [
      "\u001b[0;31m---------------------------------------------------------------------------\u001b[0m",
      "\u001b[0;31mTypeError\u001b[0m                                 Traceback (most recent call last)",
      "Input \u001b[0;32mIn [11]\u001b[0m, in \u001b[0;36m<cell line: 10>\u001b[0;34m()\u001b[0m\n\u001b[1;32m      7\u001b[0m \u001b[38;5;28;01mdef\u001b[39;00m \u001b[38;5;21mcumsum\u001b[39m(prev,t):\n\u001b[1;32m      8\u001b[0m     \u001b[38;5;28;01mreturn\u001b[39;00m prev\u001b[38;5;241m+\u001b[39mt,prev\u001b[38;5;241m+\u001b[39mt\n\u001b[0;32m---> 10\u001b[0m \u001b[43mjax\u001b[49m\u001b[38;5;241;43m.\u001b[39;49m\u001b[43mlax\u001b[49m\u001b[38;5;241;43m.\u001b[39;49m\u001b[43mscan\u001b[49m\u001b[43m(\u001b[49m\u001b[43mcumsum\u001b[49m\u001b[43m,\u001b[49m\u001b[43minit\u001b[49m\u001b[38;5;241;43m=\u001b[39;49m\u001b[43ma\u001b[49m\u001b[43m,\u001b[49m\u001b[43mxs\u001b[49m\u001b[38;5;241;43m=\u001b[39;49m\u001b[43mtree\u001b[49m\u001b[43m)\u001b[49m\n",
      "    \u001b[0;31m[... skipping hidden 13 frame]\u001b[0m\n",
      "Input \u001b[0;32mIn [11]\u001b[0m, in \u001b[0;36mcumsum\u001b[0;34m(prev, t)\u001b[0m\n\u001b[1;32m      7\u001b[0m \u001b[38;5;28;01mdef\u001b[39;00m \u001b[38;5;21mcumsum\u001b[39m(prev,t):\n\u001b[0;32m----> 8\u001b[0m     \u001b[38;5;28;01mreturn\u001b[39;00m \u001b[43mprev\u001b[49m\u001b[38;5;241;43m+\u001b[39;49m\u001b[43mt\u001b[49m,prev\u001b[38;5;241m+\u001b[39mt\n",
      "\u001b[0;31mTypeError\u001b[0m: unsupported operand type(s) for +: 'DynamicJaxprTracer' and 'tuple'"
     ]
    }
   ],
   "source": [
    "\n",
    "from functools import partial\n",
    "\n",
    "a = jnp.array([1.,2.,3.])\n",
    "tree = ({\"a\":a,\"b\":2*a},{\"a\":3*a,\"b\":4*a})\n",
    "# tree = ((a,2*a),(3*a,4*a))\n",
    "\n",
    "def cumsum(prev,t):\n",
    "    return prev+t,prev+t\n",
    "\n",
    "jax.lax.scan(cumsum,init=a,xs=tree)"
   ]
  },
  {
   "cell_type": "code",
   "execution_count": 13,
   "id": "50c6b701",
   "metadata": {},
   "outputs": [
    {
     "data": {
      "text/plain": [
       "<function __main__.transform.<locals>.apply_f(params, *args, **kwargs)>"
      ]
     },
     "execution_count": 13,
     "metadata": {},
     "output_type": "execute_result"
    }
   ],
   "source": [
    "\n",
    "current_params = []\n",
    "\n",
    "def transform(f):\n",
    "\n",
    "    def apply_f(params,*args,**kwargs):\n",
    "        current_params.append(params)\n",
    "        outs = f(*args,**kwargs)\n",
    "        # current_params.pop()\n",
    "        return outs\n",
    "    \n",
    "    return apply_f\n",
    "\n",
    "def get_params(id):\n",
    "    return current_params[-1][id]\n",
    "\n",
    "class Mymodule:\n",
    "    def apply(self,x):\n",
    "        a = get_params(\"w\")*x\n",
    "        b = get_params(\"w\")\n",
    "\n",
    "tr = transform(Mymodule().apply)\n",
    "tr\n",
    "\n",
    "# # %%\n",
    "#\n",
    "# params = {\"w\":5}\n",
    "# tr(params,5)"
   ]
  },
  {
   "cell_type": "code",
   "execution_count": 14,
   "id": "028af357",
   "metadata": {},
   "outputs": [
    {
     "data": {
      "text/plain": [
       "{ lambda ; a:i32[] b:f32[]. let\n",
       "    c:f32[] = xla_call[\n",
       "      call_jaxpr={ lambda ; d:i32[] e:f32[]. let\n",
       "          f:f32[] = convert_element_type[new_dtype=float32 weak_type=True] d\n",
       "          g:f32[] = mul f e\n",
       "        in (g,) }\n",
       "      name=apply_f\n",
       "    ] a b\n",
       "  in (c,) }"
      ]
     },
     "execution_count": 14,
     "metadata": {},
     "output_type": "execute_result"
    }
   ],
   "source": [
    "\n",
    "jtr = jax.jit(tr)\n",
    "jax.make_jaxpr(jtr)(params,5.)"
   ]
  },
  {
   "cell_type": "code",
   "execution_count": 7,
   "id": "08949de3",
   "metadata": {},
   "outputs": [],
   "source": [
    "\n",
    "x = jnp.zeros([5,])\n",
    "def forward_fn(x):\n",
    "    net = hk.nets.MLP([10,20,10])\n",
    "    return net(x)\n",
    "\n",
    "f = hk.transform(forward_fn)\n",
    "rng_key = jax.random.PRNGKey(42)\n",
    "params = f.init(rng_key,x=x)"
   ]
  },
  {
   "cell_type": "code",
   "execution_count": 67,
   "id": "267dc0f3",
   "metadata": {},
   "outputs": [
    {
     "data": {
      "text/plain": [
       "{'lifted/mlp/~/linear_0': {'w': DeviceArray([[ 0.6664603 ,  0.4364819 ,  0.1335594 , -0.6329788 ,\n",
       "                -0.20747606, -0.42482248, -0.6437425 , -0.19343022,\n",
       "                 0.44711798,  0.7477464 ],\n",
       "               [-0.04738775,  0.7271467 ,  0.14986119,  0.7600741 ,\n",
       "                -0.17041759,  0.3213556 ,  0.8654196 , -0.2867315 ,\n",
       "                -0.14945029, -0.63857454],\n",
       "               [-0.18451236,  0.46830958,  0.4697181 ,  0.5848382 ,\n",
       "                -0.00173268, -0.2649058 ,  0.04747368, -0.78986335,\n",
       "                -0.22707126,  0.707518  ],\n",
       "               [ 0.02543681, -0.24890223, -0.3334315 , -0.49748698,\n",
       "                 0.09348346,  0.2531042 , -0.07690459,  0.11085885,\n",
       "                 0.70203125, -0.2553478 ],\n",
       "               [-0.3875222 ,  0.08837761,  0.34643173,  0.02241918,\n",
       "                -0.02876837, -0.5582098 , -0.47068992,  0.52299106,\n",
       "                -0.00413316,  0.3278867 ]], dtype=float32),\n",
       "  'b': DeviceArray([0., 0., 0., 0., 0., 0., 0., 0., 0., 0.], dtype=float32)},\n",
       " 'lifted/mlp/~/linear_1': {'w': DeviceArray([[ 3.06800961e-01,  5.43052405e-02, -3.20477158e-01,\n",
       "                -2.12759629e-01,  6.28746897e-02,  3.72364581e-01,\n",
       "                -3.07357192e-01,  3.34695995e-01,  3.83060761e-02,\n",
       "                -1.35977224e-01, -2.27362722e-01,  3.10725868e-01,\n",
       "                -4.37009245e-01,  1.83587074e-01, -1.25861079e-01,\n",
       "                -3.42917591e-01,  1.02874510e-01,  5.64623594e-01,\n",
       "                 1.90401345e-01,  1.98137000e-01],\n",
       "               [ 7.86099657e-02, -6.28309548e-01,  1.86378047e-01,\n",
       "                 3.32280993e-01,  4.69436586e-01, -3.74362141e-01,\n",
       "                -5.21805346e-01,  8.63139480e-02, -5.29380798e-01,\n",
       "                -5.93309067e-02,  2.85912842e-01,  5.23967715e-03,\n",
       "                -1.22775257e-01,  4.91791904e-01, -5.94195902e-01,\n",
       "                 2.06688661e-02,  1.46317229e-01, -3.44995916e-01,\n",
       "                 2.90017754e-01,  4.91342396e-02],\n",
       "               [ 3.40487331e-01,  9.68052372e-02, -5.34054279e-01,\n",
       "                 1.55222397e-02, -4.44305658e-01,  2.05725759e-01,\n",
       "                -2.61866421e-01, -2.30730437e-02,  2.38698974e-01,\n",
       "                 2.07871020e-01, -8.18094090e-02, -2.11489618e-01,\n",
       "                 2.14053512e-01, -1.96235646e-02, -1.94434673e-02,\n",
       "                -3.01726043e-01,  4.83715653e-01,  1.63215518e-01,\n",
       "                -1.48171932e-01, -1.27560169e-01],\n",
       "               [ 7.16736019e-02,  1.79051206e-01, -5.90831816e-01,\n",
       "                -8.30096304e-02,  3.02826852e-01, -2.47085392e-01,\n",
       "                -1.12058029e-01, -1.74156129e-01, -3.15374911e-01,\n",
       "                -1.89703912e-01,  2.40823161e-02, -5.20814538e-01,\n",
       "                -3.32589597e-02,  3.86589438e-01,  7.74276108e-02,\n",
       "                -3.52870464e-01,  9.23443306e-03,  4.39372659e-02,\n",
       "                -1.43272400e-01,  1.06423713e-01],\n",
       "               [ 1.43445626e-01,  3.85064334e-01, -3.35480630e-01,\n",
       "                -4.36248124e-01,  1.22979295e-03,  7.21851587e-02,\n",
       "                 5.63323319e-01,  5.86258830e-04, -5.71862698e-01,\n",
       "                -5.22173531e-02,  1.41534150e-01,  5.15307188e-01,\n",
       "                 5.14706194e-01, -8.76452997e-02, -2.33511269e-01,\n",
       "                -4.11128551e-02,  4.53010172e-01,  2.78510392e-01,\n",
       "                 3.19285391e-05,  2.51068529e-02],\n",
       "               [-3.63867640e-01, -4.00914311e-01, -5.19367168e-03,\n",
       "                 2.85735607e-01,  7.02721253e-02, -8.72759968e-02,\n",
       "                -4.41423625e-01,  1.23050429e-01, -1.26603886e-01,\n",
       "                -6.97440654e-02, -1.43895611e-01, -8.38921666e-02,\n",
       "                -4.60803956e-01, -1.77231535e-01, -5.45061231e-01,\n",
       "                -5.83776593e-01, -2.48359069e-01,  2.89378315e-01,\n",
       "                -1.96291119e-01, -2.43833624e-02],\n",
       "               [-2.24729121e-01, -6.08834289e-02,  1.66497141e-01,\n",
       "                 2.53975093e-01,  1.73242629e-01, -3.02429199e-01,\n",
       "                -3.50165851e-02, -1.84471235e-01,  1.42858267e-01,\n",
       "                 4.94997054e-01, -8.28415230e-02,  7.34017566e-02,\n",
       "                -2.77058303e-01, -9.90223363e-02, -5.84141731e-01,\n",
       "                -2.93518513e-01, -3.06082934e-01, -9.69811529e-02,\n",
       "                 5.28079450e-01,  2.41828814e-01],\n",
       "               [ 1.24834999e-01, -5.29060304e-01,  6.75102919e-02,\n",
       "                 2.82934785e-01,  1.83145538e-01, -9.60414186e-02,\n",
       "                -4.35396701e-01, -4.18550253e-01, -9.32630524e-02,\n",
       "                 2.06175581e-01,  1.73373129e-02, -1.69514403e-01,\n",
       "                 4.79269922e-01, -2.09748745e-01, -4.55746472e-01,\n",
       "                 5.20141423e-01, -3.86814266e-01,  3.37676734e-01,\n",
       "                 1.99705526e-01,  4.18128893e-02],\n",
       "               [ 2.10599020e-01, -7.79842436e-02,  1.18069634e-01,\n",
       "                -2.29682088e-01,  3.88119847e-01,  5.21928407e-02,\n",
       "                 2.20006526e-01,  1.89357638e-01, -3.86240304e-01,\n",
       "                -2.95917481e-01, -6.36029914e-02,  3.45307626e-02,\n",
       "                -1.85662493e-01, -2.14517489e-01,  5.58337152e-01,\n",
       "                -5.58463335e-01, -6.11674450e-02,  1.11815274e-01,\n",
       "                -1.32357150e-01, -9.31374636e-03],\n",
       "               [ 1.57252982e-01, -4.50175963e-02, -2.11238295e-01,\n",
       "                -3.15629542e-01, -5.95737278e-01, -9.38370749e-02,\n",
       "                 1.28199318e-02, -2.47023404e-01, -4.20164347e-01,\n",
       "                 1.02094278e-01, -1.53273707e-02,  1.06811129e-01,\n",
       "                 7.18459189e-02, -2.34581351e-01,  5.41699171e-01,\n",
       "                 2.61955380e-01, -1.29384354e-01,  2.46603727e-01,\n",
       "                 4.97861952e-01, -2.71239758e-01]], dtype=float32),\n",
       "  'b': DeviceArray([0., 0., 0., 0., 0., 0., 0., 0., 0., 0., 0., 0., 0., 0., 0.,\n",
       "               0., 0., 0., 0., 0.], dtype=float32)}}"
      ]
     },
     "execution_count": 67,
     "metadata": {},
     "output_type": "execute_result"
    }
   ],
   "source": [
    "\n",
    "def outer(x):\n",
    "    @hk.transform\n",
    "    # @hk.transparent\n",
    "    def inner(t):\n",
    "        net = hk.nets.MLP([10,20])\n",
    "        return net(t)\n",
    "    init_rng = hk.next_rng_key()\n",
    "    # init_rng = jax.random.PRNGKey(42)\n",
    "    params = hk.lift(inner.init)(init_rng,x)\n",
    "    return jax.tree_map(lambda t:t.shape, params)\n",
    "\n",
    "f = hk.transform(outer)\n",
    "rng_key = jax.random.PRNGKey(42)\n",
    "x = jnp.zeros([5,])\n",
    "params = f.init(rng_key,x=x)\n",
    "params"
   ]
  },
  {
   "cell_type": "code",
   "execution_count": 63,
   "id": "27e7f994",
   "metadata": {},
   "outputs": [
    {
     "data": {
      "text/plain": [
       "{'mlp/~/linear_0': {'b': (10,), 'w': (5, 10)},\n",
       " 'mlp/~/linear_1': {'b': (20,), 'w': (10, 20)}}"
      ]
     },
     "execution_count": 63,
     "metadata": {},
     "output_type": "execute_result"
    }
   ],
   "source": [
    "\n",
    "f.apply(x=x,params=params,rng=rng_key)"
   ]
  },
  {
   "cell_type": "code",
   "execution_count": 137,
   "id": "66b96e9d",
   "metadata": {},
   "outputs": [],
   "source": [
    "\n",
    "@partial(jax.custom_jvp, nondiff_argnums=(1,))\n",
    "@partial(jax.jit, static_argnums=(1,))\n",
    "def _sparsemax(x, axis):\n",
    "    # get indices of elements in the right axis\n",
    "    # and reshape to allow broadcasting to other dimensions\n",
    "    idxs = jnp.arange(x.shape[axis]) + 1\n",
    "    idxs = reshape_to_broadcast(idxs, x.shape, axis)\n",
    "\n",
    "    # calculate number of elements that belong to the support\n",
    "    sorted_x = jnp.flip(lax.sort(x, dimension=axis), axis=axis)\n",
    "    cum = jnp.cumsum(sorted_x, axis=axis)\n",
    "    k = jnp.sum(jnp.where(1 + sorted_x * idxs > cum, 1, 0), axis=axis, keepdims=True)\n",
    "\n",
    "    # calculate threshold and project to simplex\n",
    "    threshold = (jnp.take_along_axis(cum, k - 1, axis=axis) - 1) / k\n",
    "    return jnp.maximum(x - threshold, 0)\n",
    "\n",
    "\n",
    "@_sparsemax.defjvp\n",
    "@partial(jax.jit, static_argnums=(0,))\n",
    "def _sparsemax_jvp(axis, primals, tangents):\n",
    "    # unpack arguments\n",
    "    x = primals[0]\n",
    "    dx = tangents[0]\n",
    "\n",
    "    # calculate entmax p and auxiliary s\n",
    "    p = _sparsemax(x, axis)\n",
    "    s = jnp.where(p > 0, 1, 0)\n",
    "\n",
    "    # jvp as simplified product with jacobian\n",
    "    dy = dx * s\n",
    "    g = jnp.sum(dy, axis=axis) / jnp.sum(s, axis=axis)\n",
    "    dy = dy - jnp.expand_dims(g, axis) * s\n",
    "    return p, dy"
   ]
  },
  {
   "cell_type": "code",
   "execution_count": 138,
   "id": "346d7b91",
   "metadata": {},
   "outputs": [
    {
     "data": {
      "text/plain": [
       "DeviceArray([ 0.6122652,  1.1225883, -0.8544134, -0.8127325, -0.890405 ],            dtype=float32)"
      ]
     },
     "execution_count": 138,
     "metadata": {},
     "output_type": "execute_result"
    }
   ],
   "source": [
    "\n",
    "key = jax.random.PRNGKey(42)\n",
    "\n",
    "x = jnp.array([2.,3.,1.,3.2,0.8])\n",
    "x = jax.random.normal(key,shape=(5,))\n",
    "x"
   ]
  },
  {
   "cell_type": "code",
   "execution_count": 135,
   "id": "87e7a97b",
   "metadata": {},
   "outputs": [
    {
     "data": {
      "text/plain": [
       "DeviceArray([[ 0.5, -0.5,  0. ,  0. ,  0. ],\n",
       "             [-0.5,  0.5,  0. ,  0. ,  0. ],\n",
       "             [ 0. ,  0. ,  0. ,  0. ,  0. ],\n",
       "             [ 0. ,  0. ,  0. ,  0. ,  0. ],\n",
       "             [ 0. ,  0. ,  0. ,  0. ,  0. ]], dtype=float32)"
      ]
     },
     "execution_count": 135,
     "metadata": {},
     "output_type": "execute_result"
    }
   ],
   "source": [
    "\n",
    "def f(x):\n",
    "    return jnp.product(_sparsemax(x,axis=-1))\n",
    "\n",
    "jax.jacfwd(partial(_sparsemax, axis=-1))(x)"
   ]
  },
  {
   "cell_type": "code",
   "execution_count": 99,
   "id": "4ff429b5",
   "metadata": {},
   "outputs": [],
   "source": [
    "\n",
    "def sparse_max(z):\n",
    "    sort_z = jnp.flip(jnp.sort(z))\n",
    "    k = jnp.arange(z.shape[-1]) + 1\n",
    "    z_cumsum = jnp.cumsum(sort_z)\n",
    "    k_array = 1 + k*sort_z\n",
    "    k_z = jnp.sum(jnp.where(z_cumsum<k_array,1,0))-1\n",
    "    tau_z = (z_cumsum[k_z]-1)/(k_z+1)\n",
    "    res = z - tau_z\n",
    "    t = jnp.where(res>0,res,0.)\n",
    "    return t\n",
    "\n",
    "def sparse_max_nd(z,axis):\n",
    "    if z.ndim <= 1:\n",
    "        return spmax(z)\n",
    "    else:\n",
    "        z = jnp.swapaxes(z, -1, axis)\n",
    "        pre_shape = z.shape\n",
    "        out = jax.vmap(spmax)(jnp.vstack(z))\n",
    "        return jnp.swapaxes(out.reshape(pre_shape),axis,-1)"
   ]
  },
  {
   "cell_type": "code",
   "execution_count": 105,
   "id": "2c6a6ae9",
   "metadata": {},
   "outputs": [
    {
     "data": {
      "text/plain": [
       "DeviceArray([[[0.        , 0.        , 1.        , 0.        ],\n",
       "              [0.        , 0.22480872, 0.        , 0.7751913 ],\n",
       "              [0.        , 0.11440706, 0.3228233 , 0.56276953]],\n",
       "\n",
       "             [[0.        , 0.        , 0.06037372, 0.93962634],\n",
       "              [0.        , 0.86641276, 0.        , 0.13358724],\n",
       "              [0.        , 0.        , 1.        , 0.        ]]],            dtype=float32)"
      ]
     },
     "execution_count": 105,
     "metadata": {},
     "output_type": "execute_result"
    }
   ],
   "source": [
    "\n",
    "key = jax.random.PRNGKey(42)\n",
    "a = jax.random.normal(key, shape=(2,3,4))\n",
    "\n",
    "def f(x):\n",
    "    axis = 2\n",
    "    return spmax_nd(x, axis=axis)"
   ]
  },
  {
   "cell_type": "code",
   "execution_count": 84,
   "id": "9e0fefff",
   "metadata": {},
   "outputs": [
    {
     "data": {
      "text/plain": [
       "DeviceArray([0.5862078, 0.       , 0.4137922], dtype=float32)"
      ]
     },
     "execution_count": 84,
     "metadata": {},
     "output_type": "execute_result"
    }
   ],
   "source": [
    "\n",
    "spmax(a[0,:,1])"
   ]
  },
  {
   "cell_type": "code",
   "execution_count": 118,
   "id": "fb786431",
   "metadata": {},
   "outputs": [
    {
     "data": {
      "text/plain": [
       "array([[[ 0,  1,  2,  3],\n",
       "        [ 4,  5,  6,  7],\n",
       "        [ 8,  9, 10, 11]],\n",
       "\n",
       "       [[12, 13, 14, 15],\n",
       "        [16, 17, 18, 19],\n",
       "        [20, 21, 22, 23]]])"
      ]
     },
     "execution_count": 118,
     "metadata": {},
     "output_type": "execute_result"
    }
   ],
   "source": [
    "\n",
    "a = np.arange(24).reshape(2,3,4)\n",
    "a"
   ]
  },
  {
   "cell_type": "code",
   "execution_count": 116,
   "id": "0d76b187",
   "metadata": {},
   "outputs": [
    {
     "data": {
      "text/plain": [
       "DeviceArray([[[10., 11., 12., 13.]]], dtype=float32)"
      ]
     },
     "execution_count": 116,
     "metadata": {},
     "output_type": "execute_result"
    }
   ],
   "source": [
    "\n",
    "jnp.mean(a,[0,1],keepdims=True)"
   ]
  },
  {
   "cell_type": "code",
   "execution_count": 120,
   "id": "7c142119",
   "metadata": {},
   "outputs": [
    {
     "data": {
      "text/plain": [
       "DeviceArray([[[ 0.        ,  0.95257413],\n",
       "              [ 3.9901097 ,  4.9954453 ],\n",
       "              [ 7.9996367 ,  8.999849  ]],\n",
       "\n",
       "             [[11.99999   , 12.999995  ],\n",
       "              [16.        , 17.        ],\n",
       "              [20.        , 21.        ]]], dtype=float32)"
      ]
     },
     "execution_count": 120,
     "metadata": {},
     "output_type": "execute_result"
    }
   ],
   "source": [
    "\n",
    "jnp.split(a,2,axis=-1)\n",
    "jax.nn.glu(a,axis=-1)"
   ]
  },
  {
   "cell_type": "code",
   "execution_count": 134,
   "id": "698e6214",
   "metadata": {},
   "outputs": [
    {
     "data": {
      "text/plain": [
       "[DeviceArray([[0., 1., 2.],\n",
       "              [6., 7., 8.]], dtype=float32),\n",
       " DeviceArray([[ 3.,  4.,  5.],\n",
       "              [ 9., 10., 11.]], dtype=float32)]"
      ]
     },
     "execution_count": 134,
     "metadata": {},
     "output_type": "execute_result"
    }
   ],
   "source": [
    "\n",
    "a = jnp.arange(12.).reshape(2,6)\n",
    "jnp.split(a,[3,],axis=-1)"
   ]
  },
  {
   "cell_type": "code",
   "execution_count": 133,
   "id": "a5caf9f2",
   "metadata": {},
   "outputs": [
    {
     "data": {
      "text/plain": [
       "DeviceArray([[ 0.,  1.,  2.,  3.,  4.,  5.],\n",
       "             [ 6.,  7.,  8.,  9., 10., 11.]], dtype=float32)"
      ]
     },
     "execution_count": 133,
     "metadata": {},
     "output_type": "execute_result"
    }
   ],
   "source": [
    "\n",
    "a"
   ]
  }
 ],
 "metadata": {
  "kernelspec": {
   "display_name": "Python 3 (ipykernel)",
   "language": "python",
   "name": "python3"
  },
  "language_info": {
   "codemirror_mode": {
    "name": "ipython",
    "version": 3
   },
   "file_extension": ".py",
   "mimetype": "text/x-python",
   "name": "python",
   "nbconvert_exporter": "python",
   "pygments_lexer": "ipython3",
   "version": "3.8.13"
  }
 },
 "nbformat": 4,
 "nbformat_minor": 5
}
